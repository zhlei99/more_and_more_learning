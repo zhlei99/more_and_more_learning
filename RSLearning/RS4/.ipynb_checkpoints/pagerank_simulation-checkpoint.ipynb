{
 "cells": [
  {
   "cell_type": "code",
   "execution_count": 22,
   "metadata": {},
   "outputs": [],
   "source": [
    "import numpy as np\n",
    "a = np.array([[0, 1/2, 1, 0], \n",
    "\t\t\t[1/3, 0, 0, 1/2],\n",
    "\t\t\t[1/3, 0, 0, 1/2],\n",
    "\t\t\t[1/3, 1/2, 0, 0]])\n",
    "a_leak = np.array([[0, 0, 0, 1/2], \n",
    "\t\t\t\t   [0, 0, 0, 1/2],\n",
    "\t\t\t\t   [0, 1, 0, 0],\n",
    "\t\t\t\t   [0, 0, 1, 0]])\n",
    "\n",
    "a_sink = np.array([[0, 0, 0, 0], \n",
    "\t\t\t\t   [1/2, 0, 0, 1],\n",
    "\t\t\t\t   [0, 1, 1, 0],\n",
    "\t\t\t\t   [1/2, 0, 0, 0]])\n",
    "\n",
    "b = np.array([1/4, 1/4, 1/4, 1/4])\n",
    "w = b"
   ]
  },
  {
   "cell_type": "code",
   "execution_count": 23,
   "metadata": {},
   "outputs": [],
   "source": [
    "def work(a, w):\n",
    "    for i in range(50):\n",
    "        w = np.dot(a, w)\n",
    "    print(w)"
   ]
  },
  {
   "cell_type": "code",
   "execution_count": 8,
   "metadata": {},
   "outputs": [],
   "source": [
    "def random_work(a, w, n):\n",
    "    d = 0.85\n",
    "    for i in range(100):\n",
    "        w = (1-d)/n + d*np.dot(a, w)\n",
    "    print (w)\n"
   ]
  },
  {
   "cell_type": "code",
   "execution_count": 25,
   "metadata": {},
   "outputs": [
    {
     "name": "stdout",
     "output_type": "stream",
     "text": [
      "[0.3245614 0.2251462 0.2251462 0.2251462]\n",
      "[0.0375     0.09885938 0.81020312 0.0534375 ]\n"
     ]
    }
   ],
   "source": [
    "#work(a_leak, w)\n",
    "random_work(a, w, 4)\n",
    "#random_work(a_leak, w, 4)\n",
    "random_work(a_sink, w, 4)"
   ]
  },
  {
   "cell_type": "code",
   "execution_count": null,
   "metadata": {},
   "outputs": [],
   "source": []
  }
 ],
 "metadata": {
  "kernelspec": {
   "display_name": "Python 3",
   "language": "python",
   "name": "python3"
  },
  "language_info": {
   "codemirror_mode": {
    "name": "ipython",
    "version": 3
   },
   "file_extension": ".py",
   "mimetype": "text/x-python",
   "name": "python",
   "nbconvert_exporter": "python",
   "pygments_lexer": "ipython3",
   "version": "3.7.4"
  }
 },
 "nbformat": 4,
 "nbformat_minor": 2
}
