{
 "cells": [
  {
   "cell_type": "markdown",
   "metadata": {},
   "source": [
    "Action1"
   ]
  },
  {
   "cell_type": "code",
   "execution_count": 29,
   "metadata": {},
   "outputs": [],
   "source": [
    "import numpy as np\n",
    "a = np.array([[0, 0, 0, 1/3, 0,0], \n",
    "              [1/2, 0, 0, 0, 1/2,0],\n",
    "              [0, 1, 0, 1/3, 1/2,0],\n",
    "              [0, 0, 0, 0, 0,1],\n",
    "              [0, 0, 1, 1/3, 0,0],\n",
    "              [1/2, 0, 0, 0, 0,0]])\n",
    "b = np.array([1/6, 1/6, 1/6, 1/6,1/6,1/6])\n",
    "w = b"
   ]
  },
  {
   "cell_type": "code",
   "execution_count": 30,
   "metadata": {},
   "outputs": [],
   "source": [
    "def work(a, w):\n",
    "    for i in range(100):\n",
    "        w = np.dot(a, w)\n",
    "    print(w)"
   ]
  },
  {
   "cell_type": "code",
   "execution_count": 31,
   "metadata": {},
   "outputs": [],
   "source": [
    "def random_work(a, w, n):\n",
    "    d = 0.85\n",
    "    for i in range(100):\n",
    "        w = (1-d)/n + d*np.dot(a, w)\n",
    "    print (w)"
   ]
  },
  {
   "cell_type": "code",
   "execution_count": 33,
   "metadata": {
    "scrolled": false
   },
   "outputs": [
    {
     "name": "stdout",
     "output_type": "stream",
     "text": [
      "[1.16341921e-27 2.00000000e-01 4.00000000e-01 3.49025764e-27\n",
      " 4.00000000e-01 1.74512882e-27]\n"
     ]
    }
   ],
   "source": [
    "work(a, w)"
   ]
  },
  {
   "cell_type": "code",
   "execution_count": 34,
   "metadata": {
    "scrolled": false
   },
   "outputs": [
    {
     "name": "stdout",
     "output_type": "stream",
     "text": [
      "[0.042449   0.18350963 0.338901   0.0615847  0.33051485 0.04304082]\n"
     ]
    }
   ],
   "source": [
    "random_work(a, w, 6)"
   ]
  },
  {
   "cell_type": "code",
   "execution_count": 36,
   "metadata": {},
   "outputs": [
    {
     "name": "stdout",
     "output_type": "stream",
     "text": [
      "[0.042449   0.18350963 0.338901   0.0615847  0.33051485 0.04304082]\n"
     ]
    }
   ],
   "source": [
    "random_work(a, w, 6)"
   ]
  },
  {
   "cell_type": "code",
   "execution_count": null,
   "metadata": {},
   "outputs": [],
   "source": []
  }
 ],
 "metadata": {
  "kernelspec": {
   "display_name": "Python 3",
   "language": "python",
   "name": "python3"
  },
  "language_info": {
   "codemirror_mode": {
    "name": "ipython",
    "version": 3
   },
   "file_extension": ".py",
   "mimetype": "text/x-python",
   "name": "python",
   "nbconvert_exporter": "python",
   "pygments_lexer": "ipython3",
   "version": "3.7.4"
  }
 },
 "nbformat": 4,
 "nbformat_minor": 2
}
