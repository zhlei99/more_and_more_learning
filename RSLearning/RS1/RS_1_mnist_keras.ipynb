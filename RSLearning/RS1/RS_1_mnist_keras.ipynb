{
 "cells": [
  {
   "cell_type": "code",
   "execution_count": 9,
   "metadata": {},
   "outputs": [],
   "source": [
    "import keras\n",
    "from keras.datasets import mnist\n",
    "from keras.layers import Conv2D, MaxPooling2D\n",
    "from keras.layers import Dense, Flatten\n",
    "from keras.models import Sequential"
   ]
  },
  {
   "cell_type": "code",
   "execution_count": 2,
   "metadata": {},
   "outputs": [],
   "source": [
    "#数据加载\n",
    "(train_x , train_y), (test_x, test_y) = mnist.load_data()"
   ]
  },
  {
   "cell_type": "code",
   "execution_count": 3,
   "metadata": {},
   "outputs": [
    {
     "data": {
      "text/plain": [
       "(60000, 28, 28)"
      ]
     },
     "execution_count": 3,
     "metadata": {},
     "output_type": "execute_result"
    }
   ],
   "source": [
    "train_x.shape"
   ]
  },
  {
   "cell_type": "code",
   "execution_count": 6,
   "metadata": {
    "scrolled": true
   },
   "outputs": [],
   "source": [
    "#数据处理\n",
    "train_x = train_x.reshape(train_x.shape[0],28, 28, 1)\n",
    "test_x = test_x.reshape(test_x.shape[0], 28, 28, 1)"
   ]
  },
  {
   "cell_type": "code",
   "execution_count": 7,
   "metadata": {},
   "outputs": [],
   "source": [
    "train_x = train_x / 255.\n",
    "test_x = test_x / 255.\n",
    "train_y = keras.utils.to_categorical(train_y, 10)\n",
    "test_y = keras.utils.to_categorical(test_y, 10)"
   ]
  },
  {
   "cell_type": "code",
   "execution_count": 11,
   "metadata": {},
   "outputs": [
    {
     "name": "stdout",
     "output_type": "stream",
     "text": [
      "Train on 60000 samples, validate on 10000 samples\n",
      "Epoch 1/2\n",
      "60000/60000 [==============================] - 14s 226us/step - loss: 0.3189 - accuracy: 0.9087 - val_loss: 0.0988 - val_accuracy: 0.9702\n",
      "Epoch 2/2\n",
      "60000/60000 [==============================] - 13s 213us/step - loss: 0.0905 - accuracy: 0.9729 - val_loss: 0.0585 - val_accuracy: 0.9820\n",
      "10000/10000 [==============================] - 1s 75us/step\n",
      "误差：0.0585\n",
      "准确率: 0.9819999933242798\n"
     ]
    }
   ],
   "source": [
    "#创建序贯模型\n",
    "model = Sequential()\n",
    "#第一层卷积层：6个卷积核,大小5*5，relu激活函数\n",
    "model.add(Conv2D(6, kernel_size=(5,5), activation = 'relu', input_shape=(28, 28, 1)))\n",
    "#第二层：最大池化\n",
    "model.add(MaxPooling2D(pool_size=(2, 2)))\n",
    "#第三层卷积层：16个卷积核，大小5*5， relu\n",
    "model.add(Conv2D(16, kernel_size = (5, 5), activation = 'relu'))\n",
    "#第四层卷积核:最大池化\n",
    "model.add(MaxPooling2D(pool_size = (2, 2)))\n",
    "#将参数进行扁平化，在LeNet5中称之为卷积层，实际上这是一层一维向量，和全连接层一样。\n",
    "model.add(Flatten())\n",
    "model.add(Dense(120, activation = 'relu'))\n",
    "#全连接层输出84个结点\n",
    "model.add(Dense(84, activation = 'relu'))\n",
    "#输出层用softmax 激活函数计算分类概率\n",
    "model.add(Dense(10, activation = 'softmax'))\n",
    "\n",
    "#设置损失函数和优化器配置\n",
    "model.compile(\n",
    "    loss = keras.metrics.categorical_crossentropy, \n",
    "    optimizer = keras.optimizers.Adam(), \n",
    "    metrics = ['accuracy'])\n",
    "\n",
    "#传入训练数据进行训练\n",
    "model.fit(train_x, train_y, batch_size = 128, epochs = 2, verbose =1, validation_data=(test_x, test_y))\n",
    "#对结果进行评估\n",
    "score = model.evaluate(test_x, test_y)\n",
    "print('误差：%0.4lf' %score[0])\n",
    "print('准确率:', score[1])"
   ]
  },
  {
   "cell_type": "code",
   "execution_count": null,
   "metadata": {},
   "outputs": [],
   "source": []
  }
 ],
 "metadata": {
  "kernelspec": {
   "display_name": "Python 3",
   "language": "python",
   "name": "python3"
  },
  "language_info": {
   "codemirror_mode": {
    "name": "ipython",
    "version": 3
   },
   "file_extension": ".py",
   "mimetype": "text/x-python",
   "name": "python",
   "nbconvert_exporter": "python",
   "pygments_lexer": "ipython3",
   "version": "3.7.4"
  }
 },
 "nbformat": 4,
 "nbformat_minor": 2
}
