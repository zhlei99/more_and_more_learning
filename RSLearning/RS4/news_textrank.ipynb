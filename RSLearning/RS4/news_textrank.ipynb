{
 "cells": [
  {
   "cell_type": "markdown",
   "metadata": {},
   "source": [
    "生成摘要,应用textrank4zh工具"
   ]
  },
  {
   "cell_type": "code",
   "execution_count": 2,
   "metadata": {
    "scrolled": true
   },
   "outputs": [],
   "source": [
    "from textrank4zh import TextRank4Keyword, TextRank4Sentence"
   ]
  },
  {
   "cell_type": "code",
   "execution_count": 3,
   "metadata": {},
   "outputs": [],
   "source": [
    "text = '土耳其国防部9日晚宣布，土军队已对叙利亚北部的库尔德武装展开军事行动。分析人士认为，此次行动并非土方突然之举，而是其在美国宣布从叙相关区域撤军后的必然选项。行动能否实现土所期待的清除叙库尔德武装、解决叙难民安置问题难以预料。但可以确定的是，此举势必会给当地民众带来灾难，会给叙局势乃至地区局势带来严重影响。土国防部表示，作为“和平之泉”军事行动的一部分，土军队已开始在叙利亚北部幼发拉底河以东地区发动地面进攻。土总统埃尔多安当日在社交媒体上发布了军事行动开始的消息，称“和平之泉”军事行动的目的是防止库尔德“恐怖分子”在土南部边境线上建立起一道“恐怖主义走廊”，并促使叙利亚难民重返家园。长期以来，土耳其都视叙库尔德武装为恐怖组织，欲将其清除。但美国却视这一武装为反恐作战合作伙伴，这让土耳其在采取行动时颇有顾忌。美土于8月曾同意在叙东北部建立一个“安全区”，隔离土边境和叙东北部的库尔德武装力量，但两国在“安全区”的范围和管理等方面迟迟无法达成一致。'\n"
   ]
  },
  {
   "cell_type": "code",
   "execution_count": 4,
   "metadata": {},
   "outputs": [],
   "source": [
    "#输出关键词，设置文本小写，窗口为2\n",
    "tr4m = TextRank4Keyword()"
   ]
  },
  {
   "cell_type": "code",
   "execution_count": 7,
   "metadata": {},
   "outputs": [
    {
     "name": "stdout",
     "output_type": "stream",
     "text": [
      "关键词：\n",
      "土 0.042379195054714866\n",
      "叙 0.039590539492346324\n",
      "军事行动 0.02749413349232927\n",
      "土耳其 0.023338347066152645\n",
      "难民 0.02255149649387114\n",
      "武装 0.02188669100703704\n",
      "宣布 0.02155825665170464\n",
      "美国 0.01893835927275734\n",
      "人士 0.018865484735342414\n",
      "安全区 0.018401768186738596\n",
      "带来 0.0172058324374837\n",
      "当日 0.01678404155184341\n",
      "社交 0.016784041551843407\n",
      "和平 0.016302507124455645\n",
      "局势 0.016184022145912608\n",
      "国防部 0.016132473667972203\n",
      "能否 0.014758225625272913\n",
      "走廊 0.01452798601585652\n",
      "管理 0.014466391909541108\n",
      "地面 0.01441900373174741\n"
     ]
    }
   ],
   "source": [
    "tr4m.analyze(text=text, lower=True, window=2)\n",
    "print ('关键词：')\n",
    "for item in tr4m.get_keywords(20, word_min_len=1):\n",
    "    print(item.word, item.weight)"
   ]
  },
  {
   "cell_type": "code",
   "execution_count": 10,
   "metadata": {},
   "outputs": [
    {
     "name": "stdout",
     "output_type": "stream",
     "text": [
      "摘要：\n",
      "5 0.13047221409423135 土总统埃尔多安当日在社交媒体上发布了军事行动开始的消息，称“和平之泉”军事行动的目的是防止库尔德“恐怖分子”在土南部边境线上建立起一道“恐怖主义走廊”，并促使叙利亚难民重返家园\n",
      "0 0.12176046334244907 土耳其国防部9日晚宣布，土军队已对叙利亚北部的库尔德武装展开军事行动\n",
      "2 0.12097306136967419 行动能否实现土所期待的清除叙库尔德武装、解决叙难民安置问题难以预料\n"
     ]
    }
   ],
   "source": [
    "#输出重要的句子\n",
    "tr4s = TextRank4Sentence()\n",
    "tr4s.analyze(text=text, lower=True, source = 'all_filters')\n",
    "print('摘要：')\n",
    "# 重要性较高的三个句子\n",
    "for item in tr4s.get_key_sentences(num=3):\n",
    "    # index是语句在文本中位置，weight表示权重\n",
    "    print(item.index, item.weight, item.sentence)"
   ]
  },
  {
   "cell_type": "code",
   "execution_count": 9,
   "metadata": {},
   "outputs": [],
   "source": []
  },
  {
   "cell_type": "code",
   "execution_count": null,
   "metadata": {},
   "outputs": [],
   "source": []
  }
 ],
 "metadata": {
  "kernelspec": {
   "display_name": "Python 3",
   "language": "python",
   "name": "python3"
  },
  "language_info": {
   "codemirror_mode": {
    "name": "ipython",
    "version": 3
   },
   "file_extension": ".py",
   "mimetype": "text/x-python",
   "name": "python",
   "nbconvert_exporter": "python",
   "pygments_lexer": "ipython3",
   "version": "3.7.4"
  }
 },
 "nbformat": 4,
 "nbformat_minor": 2
}
