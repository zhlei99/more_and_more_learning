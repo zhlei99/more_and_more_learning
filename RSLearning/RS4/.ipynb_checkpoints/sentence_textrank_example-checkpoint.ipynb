{
 "cells": [
  {
   "cell_type": "markdown",
   "metadata": {},
   "source": [
    "对句子进行textrank算法分析。提取关键词"
   ]
  },
  {
   "cell_type": "code",
   "execution_count": 1,
   "metadata": {},
   "outputs": [],
   "source": [
    "import jieba \n",
    "import jieba.analyse\n",
    "import jieba.posseg as pseg"
   ]
  },
  {
   "cell_type": "code",
   "execution_count": 2,
   "metadata": {},
   "outputs": [],
   "source": [
    "#获取语料\n",
    "sentence = '土耳其国防部9日晚宣布，土军队已对叙利亚北部的库尔德武装展开军事行动。'"
   ]
  },
  {
   "cell_type": "code",
   "execution_count": 4,
   "metadata": {},
   "outputs": [
    {
     "name": "stderr",
     "output_type": "stream",
     "text": [
      "Building prefix dict from the default dictionary ...\n",
      "Loading model from cache /var/folders/7z/f6j_h1yx5hlggj5f7ds_t__r0000gn/T/jieba.cache\n",
      "Loading model cost 0.692 seconds.\n",
      "Prefix dict has been built succesfully.\n"
     ]
    },
    {
     "name": "stdout",
     "output_type": "stream",
     "text": [
      "土耳其 国防部 9 日晚 宣布 ， 土 军队 已 对 叙利亚 北部 的 库尔德 武装 展开 军事行动 。\n"
     ]
    }
   ],
   "source": [
    "#获取分词\n",
    "seg_list = jieba.cut(sentence, cut_all=False)\n",
    "print(' '.join(seg_list))"
   ]
  },
  {
   "cell_type": "code",
   "execution_count": 8,
   "metadata": {},
   "outputs": [
    {
     "name": "stdout",
     "output_type": "stream",
     "text": [
      "土耳其, ns\n",
      "国防部, nt\n",
      "9, m\n",
      "日晚, t\n",
      "宣布, v\n",
      "，, x\n",
      "土, zg\n",
      "军队, n\n",
      "已, d\n",
      "对, p\n",
      "叙利亚, ns\n",
      "北部, f\n",
      "的, uj\n",
      "库尔德, nrt\n",
      "武装, n\n",
      "展开, v\n",
      "军事行动, n\n",
      "。, x\n"
     ]
    }
   ],
   "source": [
    "#获取分词和词性\n",
    "words = pseg.cut(sentence)\n",
    "for word, flag in words:\n",
    "    print('%s, %s' %(word, flag))"
   ]
  },
  {
   "cell_type": "code",
   "execution_count": 11,
   "metadata": {},
   "outputs": [
    {
     "name": "stdout",
     "output_type": "stream",
     "text": [
      "军事行动 1.743778820336\n",
      "叙利亚 1.6143464068739999\n",
      "土耳其 1.485975629638\n",
      "武装 1.410746902478\n",
      "军队 1.140077878338\n"
     ]
    }
   ],
   "source": [
    "#通过TF-IDF获取关键词\n",
    "keywords = jieba.analyse.extract_tags(sentence,\n",
    "                                    topK=20,\n",
    "                                    withWeight=True,\n",
    "                                    allowPOS=('n','nr','ns'))\n",
    "for item in keywords:\n",
    "    print(item[0],item[1])\n"
   ]
  },
  {
   "cell_type": "code",
   "execution_count": 12,
   "metadata": {},
   "outputs": [
    {
     "name": "stdout",
     "output_type": "stream",
     "text": [
      "[('武装', 1.0), ('叙利亚', 0.9942864157411772), ('军事行动', 0.5129797474989228), ('军队', 0.5096188251976809)]\n",
      "武装 1.0\n",
      "叙利亚 0.9942864157411772\n",
      "军事行动 0.5129797474989228\n",
      "军队 0.5096188251976809\n"
     ]
    }
   ],
   "source": [
    "# 基于TextRank算法的关键词抽取\n",
    "#keywords = jieba.analyse.extract_tags(sentence, topK=20, withWeight=True, allowPOS=('n','nr','ns'))\n",
    "#keywords = jieba.analyse.textrank(sentence, topK=20, withWeight=True, allowPOS=('ns', 'n', 'vn', 'v')) \n",
    "keywords = jieba.analyse.textrank(sentence, topK=20, withWeight=True, allowPOS=('n', 'ns')) \n",
    "#keywords = jieba.analyse.textrank(sentence, topK=20, withWeight=True) \n",
    "print(keywords)\n",
    "for item in keywords:\n",
    "    print(item[0],item[1])"
   ]
  },
  {
   "cell_type": "code",
   "execution_count": null,
   "metadata": {},
   "outputs": [],
   "source": []
  }
 ],
 "metadata": {
  "kernelspec": {
   "display_name": "Python 3",
   "language": "python",
   "name": "python3"
  },
  "language_info": {
   "codemirror_mode": {
    "name": "ipython",
    "version": 3
   },
   "file_extension": ".py",
   "mimetype": "text/x-python",
   "name": "python",
   "nbconvert_exporter": "python",
   "pygments_lexer": "ipython3",
   "version": "3.7.4"
  }
 },
 "nbformat": 4,
 "nbformat_minor": 2
}
