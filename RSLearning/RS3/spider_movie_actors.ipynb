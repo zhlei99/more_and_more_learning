{
 "cells": [
  {
   "cell_type": "markdown",
   "metadata": {},
   "source": [
    "本节使用ChromeDrvier做爬虫，进行爬取网页\n",
    "基本库使用：https://www.jianshu.com/p/3aa45532e179\n",
    "搜索的名字不能带空格。"
   ]
  },
  {
   "cell_type": "code",
   "execution_count": 1,
   "metadata": {},
   "outputs": [],
   "source": [
    "from lxml import etree   #xml解析库\n",
    "import time\n",
    "from selenium import webdriver\n",
    "import pandas as pd"
   ]
  },
  {
   "cell_type": "markdown",
   "metadata": {},
   "source": [
    "这里我们需要使用ChromeDrvier来做模拟   \n",
    "Step1，打开谷歌浏览器， 在地址栏输入 chrome://version/  查看版本信息   \n",
    "Step2，ChromeDriver版本下载地址：   http://chromedriver.storage.googleapis.com/index.html\n",
    "Step3，放到Python\\Lib\\site-packages相应路径   "
   ]
  },
  {
   "cell_type": "code",
   "execution_count": 2,
   "metadata": {},
   "outputs": [],
   "source": [
    "#保存爬取的数据字典格式\n",
    "dict_movie_actors = {}"
   ]
  },
  {
   "cell_type": "code",
   "execution_count": 3,
   "metadata": {},
   "outputs": [],
   "source": [
    "#配置路径与浏览器\n",
    "chrome_driver = r'/Users/zhaolei/opt/anaconda3/lib/python3.7/site-packages/chromedriver'\n",
    "driver = webdriver.Chrome(executable_path=chrome_driver)"
   ]
  },
  {
   "cell_type": "code",
   "execution_count": 4,
   "metadata": {},
   "outputs": [],
   "source": [
    "# 设置想要下载的导演 数据集\n",
    "director = u'徐峥'\n",
    "base_url = 'https://movie.douban.com/subject_search?search_text='+director+'&cat=1002&start='"
   ]
  },
  {
   "cell_type": "code",
   "execution_count": 5,
   "metadata": {},
   "outputs": [],
   "source": [
    "#爬取功能\n",
    "def download(request_url):\n",
    "\n",
    "    driver.get(request_url)\n",
    "    time.sleep(1)\n",
    "    html = driver.find_element_by_id('wrapper')\n",
    "    html_items = html.find_elements_by_class_name('sc-bZQynM')\n",
    "    \n",
    "    movie_title = ''\n",
    "    actors = ''\n",
    "    for item in html_items:\n",
    "        try:\n",
    "            movie_title = item.find_element_by_class_name('title-text').text\n",
    "            actors = item.find_element_by_class_name('abstract_2').text\n",
    "            if movie_title in dict_movie_actors:\n",
    "                continue\n",
    "            dict_movie_actors[movie_title] = actors\n",
    "        except Exception as e:\n",
    "            print(e)\n",
    "        finally:\n",
    "            pass"
   ]
  },
  {
   "cell_type": "code",
   "execution_count": 6,
   "metadata": {},
   "outputs": [],
   "source": [
    "#测试\n",
    "request_url = base_url + '3'\n",
    "download(request_url)"
   ]
  },
  {
   "cell_type": "code",
   "execution_count": 7,
   "metadata": {},
   "outputs": [
    {
     "data": {
      "text/plain": [
       "{'囧妈 (2020)': '徐峥 / 袁泉 / 郭京飞 / 黄景瑜 / 贾冰 / 黄梅莹 / 高以翔 / 沈腾',\n",
       " '我不是药神 (2018)': '文牧野 / 徐峥 / 王传君 / 周一围 / 谭卓 / 章宇 / 杨新鸣 / 王佳佳 / 王砚辉',\n",
       " '我和我的祖国 (2019)': '陈凯歌 / 张一白 / 管虎 / 薛晓路 / 徐峥 / 宁浩 / 文牧野 / 黄渤 / 张译 / 韩昊霖 / 杜江 / 葛优 / 刘昊然 / 宋佳 / 王千源',\n",
       " '疯狂的外星人 (2019)': '宁浩 / 黄渤 / 沈腾 / 汤姆·派福瑞 / 马修·莫里森 / 徐峥 / 于和伟 / 雷佳音 / 刘桦',\n",
       " '疯狂的石头 (2006)': '宁浩 / 郭涛 / 刘桦 / 连晋 / 黄渤 / 徐峥 / 优恵 / 罗兰 / 王迅',\n",
       " '一出好戏 (2018)': '黄渤 / 舒淇 / 王宝强 / 张艺兴 / 于和伟 / 王迅 / 李勤勤 / 李又麟',\n",
       " '人再囧途之泰囧 (2012)': '徐峥 / 王宝强 / 黄渤 / 陶虹 / 谢楠 / 范冰冰',\n",
       " '江湖儿女 (2018)': '贾樟柯 / 赵涛 / 廖凡 / 徐峥 / 梁嘉艳 / 刁亦男 / 张一白 / 丁嘉丽 / 张译',\n",
       " '无人区 (2013)': '宁浩 / 徐峥 / 黄渤 / 余男 / 多布杰 / 王双宝 / 巴多 / 杨新鸣 / 郭虹',\n",
       " '心花路放 (2014)': '宁浩 / 黄渤 / 徐峥 / 袁泉 / 周冬雨 / 陶慧 / 岳小军 / 沈腾 / 张俪',\n",
       " '港囧 (2015)': '徐峥 / 赵薇 / 包贝尔 / 杜鹃 / 葛民辉 / 李灿森 / 潘虹 / 赵有亮',\n",
       " '人在囧途 (2010)': '叶伟民 / 徐峥 / 王宝强 / 李曼 / 李小璐 / 左小青 / 张歆艺 / 黄小蕾 / 马健',\n",
       " '疯狂的赛车 (2009)': '宁浩 / 黄渤 / 戎祥 / 九孔 / 徐峥 / 王双宝 / 巴多 / 董立范 / 高捷',\n",
       " '超时空同居 (2018)': '苏伦 / 雷佳音 / 佟丽娅 / 张衣 / 于和伟 / 王正佳 / 陶虹 / 李念 / 李光洁',\n",
       " '春娇与志明 春嬌與志明 (2012)': '彭浩翔 / 杨千嬅 / 余文乐 / 杨幂 / 徐峥 / 陈逸宁 / 林兆霞 / 谷德昭 / 詹瑞文'}"
      ]
     },
     "execution_count": 7,
     "metadata": {},
     "output_type": "execute_result"
    }
   ],
   "source": [
    "dict_movie_actors"
   ]
  },
  {
   "cell_type": "code",
   "execution_count": 9,
   "metadata": {},
   "outputs": [
    {
     "data": {
      "text/plain": [
       "dict_keys(['囧妈 (2020)', '我不是药神 (2018)', '我和我的祖国 (2019)', '疯狂的外星人 (2019)', '疯狂的石头 (2006)', '一出好戏 (2018)', '人再囧途之泰囧 (2012)', '江湖儿女 (2018)', '无人区 (2013)', '心花路放 (2014)', '港囧 (2015)', '人在囧途 (2010)', '疯狂的赛车 (2009)', '超时空同居 (2018)', '春娇与志明 春嬌與志明 (2012)', '催眠大师 (2014)', '幕后玩家 (2018)', '爱情呼叫转移 (2007)', '脱口秀大会 第二季 (2019)', '夜·店 (2009)', '建党伟业 (2011)', '摩登年代 (2013)', '一夜惊喜 (2013)', '搞定岳父大人 (2012)', '极限挑战 第一季 (2015)', '春光灿烂猪八戒 (2000)', '大唐玄奘 (2016)', '爱情呼叫转移Ⅱ：爱情左右 (2008)', '猎毒人 (2018)', '穿越时空的爱恋 (2003)', '李卫当官 (2002)', '大男当婚 (2012)', '第28届中国金鸡百花电影节颁奖典礼 (2019)', '命运呼叫转移 (2007)', '我就是演员 (2018)', '第55届金马奖颁奖典礼 第55屆金馬獎頒獎典禮 (2018)', '王牌对王牌 第三季 (2018)', '好戏一出 (2018)', '犯罪分子 (1999)', '嘻游记 (2010)', '李卫当官2 (2004)', '今晚80后脱口秀 (2012)', '兔侠传奇 (2011)', '火星没事 (2009)', '第三个人 (2007)', '药有神功 (2018)', '李卫当官3 (2010)', '印囧 (2028)', '长恨歌 (2006)', '满汉全席 (2004)', '上海沧桑 (1999)', '特殊服务 (2012)', '2020东方卫视春节晚会 (2020)', '东方小故事 (1994)', '瓣嘴 第四季 (2018)', '老爸快跑 (2010)', '二十四小时 第一季 (2016)', '三揭皇榜 (2006)', '说出你的秘密 (1999)', '福禄寿三星报喜 (2005)', '一部佳作的诞生 (2011)', '周恩来在上海 (1998)', '城市微旅行 (2013)', '爸爸叫红旗 (2002)', '钢铁镇：龙族之战 (2019)', '猪先生 (2021)', '食在囧途 (2016)', '结婚进行曲 (2007)', '好男当家 (2007)', '笑八仙之素女的故事 (2002)', '2014最美表演 (2014)', '第十届中国电影导演协会年度奖 (2019)', '天使不寂寞 (2002)', '成为那个人 (2020)', '心灵捕手 (2018)', '七品钦差 (2001)', '第二届海南岛国际电影节闭幕式暨颁奖典礼 (2019)', '天桥十三郎 (2003)', '红尘往事 (1999)', '一宅到底 (2020)', '2019爱奇艺尖叫之夜 (2018)', '首届海南岛国际电影节闭幕式暨颁奖典礼 (2018)', '第26届北京大学生电影节颁奖典礼 (2019)', '龙武士 Wushu Warrior (2011)', '新铡美案 (2004)', '2016冬季星空演讲 (2016)', '忙碌的一天 (2011)', '风生水起 (1997)', '第32届大众电影百花奖颁奖典礼 (2014)', '第四届中国电影导演协会年度奖 第4届中国电影导演协会年度奖 (2013)', '出奇制胜 (2003)', '第五届中国电影导演协会年度奖 第5届中国电影导演协会年度奖 (2014)', '北京往事 (2020)', '人在囧途2 (2020)', '记忆切割 (2019)', '重返上海滩 (2003)', '无敌波 (2013)', '家和万事兴之快乐情缘 (2005)'])"
      ]
     },
     "execution_count": 9,
     "metadata": {},
     "output_type": "execute_result"
    }
   ],
   "source": [
    "#循环执行6页内容\n",
    "n = 0\n",
    "dict_movie_actors = {}\n",
    "while n < 7 :    \n",
    "    request_url = base_url + str(n*15)\n",
    "    n += 1\n",
    "    download(request_url)\n",
    "driver.close()\n",
    "dict_movie_actors.keys()"
   ]
  },
  {
   "cell_type": "code",
   "execution_count": 20,
   "metadata": {},
   "outputs": [],
   "source": [
    "data = pd.DataFrame.from_dict(dict_movie_actors, orient='index', columns=['actors'])"
   ]
  },
  {
   "cell_type": "code",
   "execution_count": 28,
   "metadata": {},
   "outputs": [
    {
     "data": {
      "text/html": [
       "<div>\n",
       "<style scoped>\n",
       "    .dataframe tbody tr th:only-of-type {\n",
       "        vertical-align: middle;\n",
       "    }\n",
       "\n",
       "    .dataframe tbody tr th {\n",
       "        vertical-align: top;\n",
       "    }\n",
       "\n",
       "    .dataframe thead th {\n",
       "        text-align: right;\n",
       "    }\n",
       "</style>\n",
       "<table border=\"1\" class=\"dataframe\">\n",
       "  <thead>\n",
       "    <tr style=\"text-align: right;\">\n",
       "      <th></th>\n",
       "      <th>title</th>\n",
       "      <th>actors</th>\n",
       "    </tr>\n",
       "  </thead>\n",
       "  <tbody>\n",
       "    <tr>\n",
       "      <td>0</td>\n",
       "      <td>囧妈 (2020)</td>\n",
       "      <td>徐峥 / 袁泉 / 郭京飞 / 黄景瑜 / 贾冰 / 黄梅莹 / 高以翔 / 沈腾</td>\n",
       "    </tr>\n",
       "    <tr>\n",
       "      <td>1</td>\n",
       "      <td>我不是药神 (2018)</td>\n",
       "      <td>文牧野 / 徐峥 / 王传君 / 周一围 / 谭卓 / 章宇 / 杨新鸣 / 王佳佳 / 王砚辉</td>\n",
       "    </tr>\n",
       "    <tr>\n",
       "      <td>2</td>\n",
       "      <td>我和我的祖国 (2019)</td>\n",
       "      <td>陈凯歌 / 张一白 / 管虎 / 薛晓路 / 徐峥 / 宁浩 / 文牧野 / 黄渤 / 张译...</td>\n",
       "    </tr>\n",
       "    <tr>\n",
       "      <td>3</td>\n",
       "      <td>疯狂的外星人 (2019)</td>\n",
       "      <td>宁浩 / 黄渤 / 沈腾 / 汤姆·派福瑞 / 马修·莫里森 / 徐峥 / 于和伟 / 雷佳...</td>\n",
       "    </tr>\n",
       "    <tr>\n",
       "      <td>4</td>\n",
       "      <td>疯狂的石头 (2006)</td>\n",
       "      <td>宁浩 / 郭涛 / 刘桦 / 连晋 / 黄渤 / 徐峥 / 优恵 / 罗兰 / 王迅</td>\n",
       "    </tr>\n",
       "    <tr>\n",
       "      <td>...</td>\n",
       "      <td>...</td>\n",
       "      <td>...</td>\n",
       "    </tr>\n",
       "    <tr>\n",
       "      <td>93</td>\n",
       "      <td>人在囧途2 (2020)</td>\n",
       "      <td></td>\n",
       "    </tr>\n",
       "    <tr>\n",
       "      <td>94</td>\n",
       "      <td>记忆切割 (2019)</td>\n",
       "      <td>果靖霖 / 郭采洁 / 刘雪华 / 赵立新</td>\n",
       "    </tr>\n",
       "    <tr>\n",
       "      <td>95</td>\n",
       "      <td>重返上海滩 (2003)</td>\n",
       "      <td>陈晓雷 / 丁志城 / 傅彪 / 赵子琪</td>\n",
       "    </tr>\n",
       "    <tr>\n",
       "      <td>96</td>\n",
       "      <td>无敌波 (2013)</td>\n",
       "      <td>张晓颖 / 李红陶</td>\n",
       "    </tr>\n",
       "    <tr>\n",
       "      <td>97</td>\n",
       "      <td>家和万事兴之快乐情缘 (2005)</td>\n",
       "      <td>张菁 / 徐铮 / 牛莉 / 魏积安</td>\n",
       "    </tr>\n",
       "  </tbody>\n",
       "</table>\n",
       "<p>98 rows × 2 columns</p>\n",
       "</div>"
      ],
      "text/plain": [
       "                title                                             actors\n",
       "0           囧妈 (2020)          徐峥 / 袁泉 / 郭京飞 / 黄景瑜 / 贾冰 / 黄梅莹 / 高以翔 / 沈腾\n",
       "1        我不是药神 (2018)   文牧野 / 徐峥 / 王传君 / 周一围 / 谭卓 / 章宇 / 杨新鸣 / 王佳佳 / 王砚辉\n",
       "2       我和我的祖国 (2019)  陈凯歌 / 张一白 / 管虎 / 薛晓路 / 徐峥 / 宁浩 / 文牧野 / 黄渤 / 张译...\n",
       "3       疯狂的外星人 (2019)  宁浩 / 黄渤 / 沈腾 / 汤姆·派福瑞 / 马修·莫里森 / 徐峥 / 于和伟 / 雷佳...\n",
       "4        疯狂的石头 (2006)         宁浩 / 郭涛 / 刘桦 / 连晋 / 黄渤 / 徐峥 / 优恵 / 罗兰 / 王迅\n",
       "..                ...                                                ...\n",
       "93       人在囧途2 (2020)                                                   \n",
       "94        记忆切割 (2019)                              果靖霖 / 郭采洁 / 刘雪华 / 赵立新\n",
       "95       重返上海滩 (2003)                               陈晓雷 / 丁志城 / 傅彪 / 赵子琪\n",
       "96         无敌波 (2013)                                          张晓颖 / 李红陶\n",
       "97  家和万事兴之快乐情缘 (2005)                                 张菁 / 徐铮 / 牛莉 / 魏积安\n",
       "\n",
       "[98 rows x 2 columns]"
      ]
     },
     "execution_count": 28,
     "metadata": {},
     "output_type": "execute_result"
    }
   ],
   "source": [
    "data.reset_index().rename(columns = {'index':'title'})"
   ]
  },
  {
   "cell_type": "code",
   "execution_count": 29,
   "metadata": {},
   "outputs": [
    {
     "name": "stdout",
     "output_type": "stream",
     "text": [
      "<class 'pandas.core.frame.DataFrame'>\n",
      "Index: 98 entries, 囧妈 (2020) to 家和万事兴之快乐情缘 (2005)\n",
      "Data columns (total 1 columns):\n",
      "actors    98 non-null object\n",
      "dtypes: object(1)\n",
      "memory usage: 1.5+ KB\n"
     ]
    }
   ],
   "source": [
    "data.info()"
   ]
  },
  {
   "cell_type": "code",
   "execution_count": 31,
   "metadata": {},
   "outputs": [],
   "source": [
    "#存储数据\n",
    "data.to_csv('../../datasets/MovieActors/movie_actors.csv', encoding='utf-8')"
   ]
  },
  {
   "cell_type": "code",
   "execution_count": null,
   "metadata": {},
   "outputs": [],
   "source": []
  }
 ],
 "metadata": {
  "kernelspec": {
   "display_name": "Python 3",
   "language": "python",
   "name": "python3"
  },
  "language_info": {
   "codemirror_mode": {
    "name": "ipython",
    "version": 3
   },
   "file_extension": ".py",
   "mimetype": "text/x-python",
   "name": "python",
   "nbconvert_exporter": "python",
   "pygments_lexer": "ipython3",
   "version": "3.7.4"
  }
 },
 "nbformat": 4,
 "nbformat_minor": 2
}
